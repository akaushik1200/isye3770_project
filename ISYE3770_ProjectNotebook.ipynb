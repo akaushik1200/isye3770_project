{
 "cells": [
  {
   "cell_type": "code",
   "execution_count": null,
   "id": "9be8263a-9f78-4542-97b9-9909957984de",
   "metadata": {},
   "outputs": [],
   "source": [
    "import pandas as pd\n",
    "import numpy as np\n",
    "import matplotlib.pyplot as plt\n",
    "import seaborn as sns\n",
    "sns.set_theme(style='whitegrid')"
   ]
  },
  {
   "cell_type": "code",
   "execution_count": null,
   "id": "27946bae",
   "metadata": {},
   "outputs": [],
   "source": [
    "# Load the data\n",
    "df = pd.read_csv(\"movie_metadata.csv\")\n",
    "df = df.drop_duplicates()\n",
    "df = df.dropna(thresh=int(df.shape[1]*0.7))  # Keep rows with at least 70% non-null"
   ]
  },
  {
   "cell_type": "code",
   "execution_count": null,
   "id": "3e919415",
   "metadata": {},
   "outputs": [],
   "source": [
    "def remove_outliers_iqr(df, column):\n",
    "    Q1 = df[column].quantile(0.25)\n",
    "    Q3 = df[column].quantile(0.75)\n",
    "    IQR = Q3 - Q1\n",
    "    lower = Q1 - 1.5 * IQR\n",
    "    upper = Q3 + 1.5 * IQR\n",
    "    return df[(df[column] >= lower) & (df[column] <= upper)]"
   ]
  },
  {
   "cell_type": "code",
   "execution_count": null,
   "id": "841fd6a0",
   "metadata": {},
   "outputs": [],
   "source": [
    "## Research Question 1: Does IMDb Score Impact Gross Income?\n",
    "q1_df = df[['imdb_score', 'gross']].dropna()\n",
    "q1_df = q1_df[q1_df['gross'] > 0]\n",
    "q1_df = remove_outliers_iqr(q1_df, 'gross')\n",
    "\n",
    "# Scatter plot\n",
    "plt.figure(figsize=(8, 5))\n",
    "sns.scatterplot(data=q1_df, x='imdb_score', y='gross')\n",
    "plt.title(\"IMDb Score vs Gross Income\")\n",
    "plt.show()\n",
    "\n",
    "# Histogram\n",
    "q1_df['imdb_score'].hist(bins=20)\n",
    "plt.title(\"Distribution of IMDb Scores\")\n",
    "plt.xlabel(\"IMDb Score\")\n",
    "plt.ylabel(\"Count\")\n",
    "plt.show()\n",
    "\n",
    "# Basic summary\n",
    "print(q1_df.describe())\n",
    "\n",
    "# Grouping by IMDb score bins for trend checking\n",
    "q1_df['score_bin'] = pd.cut(q1_df['imdb_score'], bins=[0, 5, 6, 7, 8, 9, 10])\n",
    "grouped_q1 = q1_df.groupby('score_bin')['gross'].describe()\n",
    "display(grouped_q1)\n",
    "\n",
    "# Correlation (prep for regression)\n",
    "print(\"Correlation:\", q1_df['imdb_score'].corr(q1_df['gross']))"
   ]
  },
  {
   "cell_type": "code",
   "execution_count": null,
   "id": "fed56a6e",
   "metadata": {},
   "outputs": [],
   "source": [
    "## Research Question 2: Is There a Trend Between Genre and Budget?\n",
    "q2_df = df[['genres', 'budget']].dropna()\n",
    "q2_df = q2_df[q2_df['budget'] > 0]\n",
    "q2_df['main_genre'] = q2_df['genres'].apply(lambda x: x.split('|')[0])\n",
    "q2_df = remove_outliers_iqr(q2_df, 'budget')\n",
    "\n",
    "# Boxplot of budget by main genre\n",
    "plt.figure(figsize=(12,6))\n",
    "sns.boxplot(data=q2_df, x='main_genre', y='budget')\n",
    "plt.xticks(rotation=45)\n",
    "plt.title(\"Budget by Genre\")\n",
    "plt.show()\n",
    "\n",
    "# Histogram\n",
    "q2_df['budget'].hist(bins=30)\n",
    "plt.title(\"Distribution of Movie Budgets\")\n",
    "plt.xlabel(\"Budget\")\n",
    "plt.ylabel(\"Count\")\n",
    "plt.show()\n",
    "\n",
    "# Summary per genre\n",
    "genre_summary = q2_df.groupby('main_genre')['budget'].describe()\n",
    "display(genre_summary)\n",
    "\n",
    "# Number of observations per group\n",
    "print(q2_df['main_genre'].value_counts())"
   ]
  },
  {
   "cell_type": "code",
   "execution_count": null,
   "id": "3b037af3",
   "metadata": {},
   "outputs": [],
   "source": [
    "## Research Question 3: Does the Director’s Name Influence the Number of Votes?\n",
    "q3_df = df[['director_name', 'num_voted_users']].dropna()\n",
    "q3_df = q3_df[q3_df['num_voted_users'] > 0]\n",
    "q3_df = remove_outliers_iqr(q3_df, 'num_voted_users')\n",
    "\n",
    "# Top 10 directors by average number of votes\n",
    "top_directors = q3_df.groupby('director_name')['num_voted_users'].mean().sort_values(ascending=False).head(10)\n",
    "top_directors.plot(kind='bar')\n",
    "plt.title(\"Top 10 Directors by Avg Number of Votes\")\n",
    "plt.ylabel(\"Avg Voted Users\")\n",
    "plt.xticks(rotation=45)\n",
    "plt.show()\n",
    "\n",
    "# Histogram of votes\n",
    "q3_df['num_voted_users'].hist(bins=30)\n",
    "plt.title(\"Distribution of Number of Voted Users\")\n",
    "plt.xlabel(\"Votes\")\n",
    "plt.ylabel(\"Count\")\n",
    "plt.show()\n",
    "\n",
    "# Summary\n",
    "print(q3_df.describe())\n",
    "\n",
    "# Grouping by director\n",
    "director_summary = q3_df.groupby('director_name')['num_voted_users'].describe().sort_values(by='mean', ascending=False)\n",
    "display(director_summary.head(10))"
   ]
  }
 ],
 "metadata": {
  "kernelspec": {
   "display_name": "Python 3",
   "language": "python",
   "name": "python3"
  },
  "language_info": {
   "codemirror_mode": {
    "name": "ipython",
    "version": 3
   },
   "file_extension": ".py",
   "mimetype": "text/x-python",
   "name": "python",
   "nbconvert_exporter": "python",
   "pygments_lexer": "ipython3",
   "version": "3.12.3"
  }
 },
 "nbformat": 4,
 "nbformat_minor": 5
}
